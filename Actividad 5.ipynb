{
 "cells": [
  {
   "cell_type": "code",
   "execution_count": 1,
   "metadata": {},
   "outputs": [
    {
     "name": "stdout",
     "output_type": "stream",
     "text": [
      "42\n"
     ]
    }
   ],
   "source": [
    "#SUMA\n",
    "answer = 30 + 12\n",
    "print(answer)"
   ]
  },
  {
   "cell_type": "code",
   "execution_count": 2,
   "metadata": {},
   "outputs": [
    {
     "name": "stdout",
     "output_type": "stream",
     "text": [
      "18\n"
     ]
    }
   ],
   "source": [
    "#RESTA\n",
    "difference = 30 - 12\n",
    "print(difference)"
   ]
  },
  {
   "cell_type": "code",
   "execution_count": null,
   "metadata": {},
   "outputs": [],
   "source": [
    "#Multiplicacion\n",
    "roduct = 30 * 12\n",
    "print(product)"
   ]
  },
  {
   "cell_type": "code",
   "execution_count": 4,
   "metadata": {},
   "outputs": [],
   "source": [
    "#Ejercio 1\n",
    "# Crear variables para almacenar las dos distancias\n",
    "# ¡Asegúrate de quitar las comas!\n",
    "Tierra = 149597870\n",
    "Jupiter = 778547200"
   ]
  },
  {
   "cell_type": "code",
   "execution_count": 5,
   "metadata": {},
   "outputs": [
    {
     "name": "stdout",
     "output_type": "stream",
     "text": [
      "La distancia es: 628949330 km\n"
     ]
    }
   ],
   "source": [
    "# Calcular la distancia entre planetas\n",
    "Km = ((Tierra - Jupiter)*(-1))\n",
    "print('La distancia es: ' + str(abs(Km))+ ' km' )"
   ]
  },
  {
   "cell_type": "code",
   "execution_count": 7,
   "metadata": {},
   "outputs": [
    {
     "name": "stdout",
     "output_type": "stream",
     "text": [
      "390577533.93 Millas\n"
     ]
    }
   ],
   "source": [
    "# Calculo en Millas\n",
    "k2m = 0.621\n",
    "mll = (Km * k2m)\n",
    "print(str(abs(mll))+' Millas')\n"
   ]
  },
  {
   "cell_type": "code",
   "execution_count": 15,
   "metadata": {},
   "outputs": [
    {
     "name": "stdout",
     "output_type": "stream",
     "text": [
      "Los datos que ingresaste son: 10 y 15\n"
     ]
    }
   ],
   "source": [
    "# Actividad 2\n",
    "# Almacenar las entradas del usuario\n",
    "#Pista: variable = input(\"¿Cuál es tu nombre?\")\n",
    "varp1 = input(\"Coloca la distancia del primer planeta: \")\n",
    "varp2 = input(\"Coloca la distancia del segundo planeta: \")\n",
    "print('Los datos que ingresaste son: ' + str(varp1) + ' y ' +str(varp2))\n",
    "a = int(varp1)\n",
    "b = int(varp2)"
   ]
  },
  {
   "cell_type": "code",
   "execution_count": 17,
   "metadata": {},
   "outputs": [
    {
     "name": "stdout",
     "output_type": "stream",
     "text": [
      "La distancia es: 5 km\n"
     ]
    }
   ],
   "source": [
    "# Convertir nuemro\n",
    "pr = (abs(a - b))\n",
    "print('La distancia es: ' + str(abs(pr))+ ' km' )"
   ]
  }
 ],
 "metadata": {
  "interpreter": {
   "hash": "892a100207ad6c414bb889899cc26cd986ed151374a5fa57c7ac23735bd0379c"
  },
  "kernelspec": {
   "display_name": "Python 3.10.2 64-bit",
   "language": "python",
   "name": "python3"
  },
  "language_info": {
   "codemirror_mode": {
    "name": "ipython",
    "version": 3
   },
   "file_extension": ".py",
   "mimetype": "text/x-python",
   "name": "python",
   "nbconvert_exporter": "python",
   "pygments_lexer": "ipython3",
   "version": "3.10.2"
  },
  "orig_nbformat": 4
 },
 "nbformat": 4,
 "nbformat_minor": 2
}
